{
 "cells": [
  {
   "cell_type": "markdown",
   "metadata": {},
   "source": [
    "# Pitcher Batter wOBAs \n",
    "The goal is:\n",
    "* Given files that contain - one per record - each pitch thrown in the Statcase era (i.e., since 2017)\n",
    "* Determine each batter's wOBA versus each pitcher. We'll use wOBA (for now) as a single value to gauge a batter's success against an individual pitcher."
   ]
  },
  {
   "cell_type": "markdown",
   "metadata": {},
   "source": [
    "# Configure Notebook\n",
    "### Imports"
   ]
  },
  {
   "cell_type": "code",
   "execution_count": 1,
   "metadata": {},
   "outputs": [],
   "source": [
    "import pandas as pd\n",
    "import numpy as np\n",
    "from datetime import datetime\n",
    "import io\n",
    "\n",
    "import boto3\n",
    "from sagemaker import get_execution_role\n",
    "import sagemaker.amazon.common as smac"
   ]
  },
  {
   "cell_type": "markdown",
   "metadata": {},
   "source": [
    "### HTML/CSS Styling for Markdown"
   ]
  },
  {
   "cell_type": "code",
   "execution_count": 2,
   "metadata": {},
   "outputs": [
    {
     "data": {
      "text/html": [
       "<style>\n",
       ".rendered_html tr, .rendered_html th, .rendered_html td {\n",
       "  text-align: left;\n",
       "}\n",
       "# .rendered_html :first-child {\n",
       "#   text-align: left;\n",
       "# }\n",
       "# .rendered_html :last-child {\n",
       "#   text-align: left;\n",
       "# }\n",
       "</style>"
      ],
      "text/plain": [
       "<IPython.core.display.HTML object>"
      ]
     },
     "metadata": {},
     "output_type": "display_data"
    }
   ],
   "source": [
    "%%html\n",
    "<style>\n",
    ".rendered_html tr, .rendered_html th, .rendered_html td {\n",
    "  text-align: left;\n",
    "}\n",
    "# .rendered_html :first-child {\n",
    "#   text-align: left;\n",
    "# }\n",
    "# .rendered_html :last-child {\n",
    "#   text-align: left;\n",
    "# }\n",
    "</style>"
   ]
  },
  {
   "cell_type": "markdown",
   "metadata": {},
   "source": [
    "# Build Data of Selected Pitch Events\n",
    "Build a DataFrame with all of the pitch events that meet certain criteria (e.g., regular season, recorded by statcast) will be selected"
   ]
  },
  {
   "cell_type": "markdown",
   "metadata": {},
   "source": [
    "### List Pitch Event Files\n",
    "Load in all pitch event files from the selected period (based on the prefix variable).\n",
    "\n",
    "* All files are available at [event files](https://s3.console.aws.amazon.com/s3/buckets/appleforge-merlin-develop-datalake/savant/?region=us-east-1&tab=overview)\n",
    "* Files are in bucket name: appleforge-merlin-develop-datalake\n",
    "* Path names are: savant/&lt;year&gt;-&lt;month&gt;-&lt;day&gt;.csv\n"
   ]
  },
  {
   "cell_type": "code",
   "execution_count": 4,
   "metadata": {},
   "outputs": [
    {
     "data": {
      "text/plain": [
       "'Pitch Event File Count: 365'"
      ]
     },
     "execution_count": 4,
     "metadata": {},
     "output_type": "execute_result"
    }
   ],
   "source": [
    "bucket_name = 'appleforge-merlin-develop-datalake'\n",
    "prefix = 'savant/2019'\n",
    "s3_client = boto3.client('s3')\n",
    "paginator = s3_client.get_paginator('list_objects_v2')\n",
    "pages = paginator.paginate(\n",
    "    Bucket = bucket_name,\n",
    "    Prefix = prefix\n",
    ")\n",
    "s3_objects = [key for page in pages for key in page['Contents']]\n",
    "files = list(map(lambda o: o.get('Key'), s3_objects))\n",
    "f\"Pitch Event File Count: {len(files)}\""
   ]
  },
  {
   "cell_type": "markdown",
   "metadata": {},
   "source": [
    "### Build Data Frame of the Outcomes of all Plate Appearances\n",
    "\n",
    "| Field | Description |\n",
    "|:-------|:-------------|\n",
    "| pitcher | MLB Player Id tied to the play event. |\n",
    "| batter  | MLB Player Id tied to the play event. |\n",
    "| events  | Event of the resulting Plate Appearance. (when not null) |\n",
    "\n",
    "This is the fangraphs wOBA formula, but we're going to use an alternate version in which intentional base on balls (IBB) are treated as base on balls (BB).\n",
    "\n",
    "![alt text](http://www.fangraphs.com/library/wp-content/uploads/2010/02/wOBA-flash-e1459706071159.png)\n"
   ]
  },
  {
   "cell_type": "code",
   "execution_count": 7,
   "metadata": {},
   "outputs": [
    {
     "data": {
      "text/plain": [
       "'Outcome Event Count: 188865'"
      ]
     },
     "execution_count": 7,
     "metadata": {},
     "output_type": "execute_result"
    }
   ],
   "source": [
    "s3_session = boto3.session.Session().resource('s3')\n",
    "\n",
    "def fetch_df(key: str) -> pd.DataFrame:\n",
    "    zip_file_object = s3_session.Object(\n",
    "        bucket_name=bucket_name,\n",
    "        key=key\n",
    "    )\n",
    "    buffer = io.BytesIO(zip_file_object.get()[\"Body\"].read())\n",
    "    columns = ['pitcher','batter', 'events']\n",
    "    df = pd.read_csv(\n",
    "        filepath_or_buffer=buffer,\n",
    "        header=0,\n",
    "        sep=',',\n",
    "        quotechar='\"',\n",
    "        usecols=columns,\n",
    "        dtype={\n",
    "            'pitcher': object,\n",
    "            'batter': object,\n",
    "            'pitch_name': object\n",
    "        }\n",
    "    )\n",
    "    return df[~df['events'].isna()]\n",
    "\n",
    "list_of_dataframes = list(map(fetch_df, files))\n",
    "df = pd.concat(list_of_dataframes)\n",
    "f\"Outcome Event Count: {len(df)}\""
   ]
  },
  {
   "cell_type": "markdown",
   "metadata": {},
   "source": [
    "### Group by Pitcher/Batter"
   ]
  },
  {
   "cell_type": "code",
   "execution_count": 29,
   "metadata": {},
   "outputs": [
    {
     "data": {
      "text/plain": [
       "'triple_play,hit_by_pitch,force_out,other_out,grounded_into_double_play,strikeout_double_play,triple,double,sac_fly,double_play,field_error,sac_fly_double_play,home_run,walk,strikeout,fielders_choice_out,single,fielders_choice,field_out'"
      ]
     },
     "execution_count": 29,
     "metadata": {},
     "output_type": "execute_result"
    }
   ],
   "source": [
    "df['events'].unique()\n",
    "all_event_names = set(df['events'].unique())\n",
    "woba_event_names = {\n",
    " 'double',\n",
    " 'double_play',\n",
    " 'field_error',\n",
    " 'field_out',\n",
    " 'fielders_choice',\n",
    " 'fielders_choice_out',\n",
    " 'force_out',\n",
    " 'grounded_into_double_play',\n",
    " 'hit_by_pitch',\n",
    " 'home_run',\n",
    " 'other_out',\n",
    " 'sac_fly',\n",
    " 'sac_fly_double_play',\n",
    " 'single',\n",
    " 'strikeout',\n",
    " 'strikeout_double_play',\n",
    " 'triple',\n",
    " 'triple_play',\n",
    " 'walk'}\n",
    "available_event_names = all_event_names & woba_event_names\n",
    "\",\".join(available_event_names)"
   ]
  },
  {
   "cell_type": "code",
   "execution_count": 27,
   "metadata": {},
   "outputs": [
    {
     "data": {
      "text/plain": [
       "pitcher  batter  events   \n",
       "282332   405395  field_out    2\n",
       "                 single       3\n",
       "         425844  field_out    1\n",
       "                 strikeout    1\n",
       "         429665  field_out    1\n",
       "Name: events, dtype: int64"
      ]
     },
     "execution_count": 27,
     "metadata": {},
     "output_type": "execute_result"
    }
   ],
   "source": [
    "woba_event_vector = df['events'].isin(available_event_names)\n",
    "df_event_count = df[woba_event_vector].groupby(['pitcher', 'batter', 'events'])['events'].count()\n",
    "df_event_count.head()"
   ]
  },
  {
   "cell_type": "code",
   "execution_count": 49,
   "metadata": {},
   "outputs": [
    {
     "data": {
      "text/html": [
       "<div>\n",
       "<style scoped>\n",
       "    .dataframe tbody tr th:only-of-type {\n",
       "        vertical-align: middle;\n",
       "    }\n",
       "\n",
       "    .dataframe tbody tr th {\n",
       "        vertical-align: top;\n",
       "    }\n",
       "\n",
       "    .dataframe thead th {\n",
       "        text-align: right;\n",
       "    }\n",
       "</style>\n",
       "<table border=\"1\" class=\"dataframe\">\n",
       "  <thead>\n",
       "    <tr style=\"text-align: right;\">\n",
       "      <th></th>\n",
       "      <th>events</th>\n",
       "      <th>1b</th>\n",
       "      <th>2b</th>\n",
       "      <th>3b</th>\n",
       "      <th>bb</th>\n",
       "      <th>hbp</th>\n",
       "      <th>hr</th>\n",
       "      <th>out</th>\n",
       "      <th>sf</th>\n",
       "      <th>ab</th>\n",
       "      <th>woba</th>\n",
       "    </tr>\n",
       "    <tr>\n",
       "      <th>pitcher</th>\n",
       "      <th>batter</th>\n",
       "      <th></th>\n",
       "      <th></th>\n",
       "      <th></th>\n",
       "      <th></th>\n",
       "      <th></th>\n",
       "      <th></th>\n",
       "      <th></th>\n",
       "      <th></th>\n",
       "      <th></th>\n",
       "      <th></th>\n",
       "    </tr>\n",
       "  </thead>\n",
       "  <tbody>\n",
       "    <tr>\n",
       "      <th rowspan=\"5\" valign=\"top\">282332</th>\n",
       "      <th>405395</th>\n",
       "      <td>3.0</td>\n",
       "      <td>0.0</td>\n",
       "      <td>0.0</td>\n",
       "      <td>0.0</td>\n",
       "      <td>0.0</td>\n",
       "      <td>0.0</td>\n",
       "      <td>2.0</td>\n",
       "      <td>0.0</td>\n",
       "      <td>5.0</td>\n",
       "      <td>0.534000</td>\n",
       "    </tr>\n",
       "    <tr>\n",
       "      <th>425844</th>\n",
       "      <td>0.0</td>\n",
       "      <td>0.0</td>\n",
       "      <td>0.0</td>\n",
       "      <td>0.0</td>\n",
       "      <td>0.0</td>\n",
       "      <td>0.0</td>\n",
       "      <td>2.0</td>\n",
       "      <td>0.0</td>\n",
       "      <td>2.0</td>\n",
       "      <td>0.000000</td>\n",
       "    </tr>\n",
       "    <tr>\n",
       "      <th>429665</th>\n",
       "      <td>1.0</td>\n",
       "      <td>0.0</td>\n",
       "      <td>0.0</td>\n",
       "      <td>1.0</td>\n",
       "      <td>0.0</td>\n",
       "      <td>0.0</td>\n",
       "      <td>1.0</td>\n",
       "      <td>0.0</td>\n",
       "      <td>2.0</td>\n",
       "      <td>0.526667</td>\n",
       "    </tr>\n",
       "    <tr>\n",
       "      <th>430945</th>\n",
       "      <td>0.0</td>\n",
       "      <td>0.0</td>\n",
       "      <td>0.0</td>\n",
       "      <td>1.0</td>\n",
       "      <td>0.0</td>\n",
       "      <td>0.0</td>\n",
       "      <td>2.0</td>\n",
       "      <td>0.0</td>\n",
       "      <td>2.0</td>\n",
       "      <td>0.230000</td>\n",
       "    </tr>\n",
       "    <tr>\n",
       "      <th>443558</th>\n",
       "      <td>0.0</td>\n",
       "      <td>0.0</td>\n",
       "      <td>0.0</td>\n",
       "      <td>0.0</td>\n",
       "      <td>0.0</td>\n",
       "      <td>1.0</td>\n",
       "      <td>1.0</td>\n",
       "      <td>0.0</td>\n",
       "      <td>2.0</td>\n",
       "      <td>1.050000</td>\n",
       "    </tr>\n",
       "  </tbody>\n",
       "</table>\n",
       "</div>"
      ],
      "text/plain": [
       "events           1b   2b   3b   bb  hbp   hr  out   sf   ab      woba\n",
       "pitcher batter                                                       \n",
       "282332  405395  3.0  0.0  0.0  0.0  0.0  0.0  2.0  0.0  5.0  0.534000\n",
       "        425844  0.0  0.0  0.0  0.0  0.0  0.0  2.0  0.0  2.0  0.000000\n",
       "        429665  1.0  0.0  0.0  1.0  0.0  0.0  1.0  0.0  2.0  0.526667\n",
       "        430945  0.0  0.0  0.0  1.0  0.0  0.0  2.0  0.0  2.0  0.230000\n",
       "        443558  0.0  0.0  0.0  0.0  0.0  1.0  1.0  0.0  2.0  1.050000"
      ]
     },
     "execution_count": 49,
     "metadata": {},
     "output_type": "execute_result"
    }
   ],
   "source": [
    "df_collapsed_event_count = df.copy()\n",
    "df_collapsed_event_count['events'] = df_collapsed_event_count['events'].map({\n",
    "    'triple_play': 'out', \n",
    "    'hit_by_pitch': 'hbp',\n",
    "    'force_out': 'out', \n",
    "    'other_out': 'out', \n",
    "    'grounded_into_double_play': 'out', \n",
    "    'strikeout_double_play': 'out', \n",
    "    'triple': '3b',\n",
    "    'double': '2b',\n",
    "    'sac_fly': 'sf',\n",
    "    'double_play': 'out', \n",
    "    'field_error': 'out', \n",
    "    'sac_fly_double_play': 'sf',\n",
    "    'home_run': 'hr',\n",
    "    'walk': 'bb',\n",
    "    'strikeout': 'out', \n",
    "    'fielders_choice_out': 'out', \n",
    "    'single': '1b',\n",
    "    'fielders_choice': 'out',\n",
    "    'field_out': 'out'\n",
    "})\n",
    "\n",
    "def _woba(_1b, _2b, _3b, _bb, _hbp, _hr, _sf, _ab):\n",
    "    return (0.69*_bb + 0.72*_hbp + 0.89*_1b + 1.27*_2b + 1.62*_3b + 2.10*_hr) / (_ab + _bb + _sf + _hbp)\n",
    "\n",
    "df_collapsed_event_count = df_collapsed_event_count[woba_event_vector].groupby(['pitcher', 'batter', 'events'])['events'].count()\n",
    "df_collapsed_event_count = df_collapsed_event_count.unstack().fillna(0)\n",
    "df_collapsed_event_count['ab']=df_collapsed_event_count['1b']+df_collapsed_event_count['2b']+df_collapsed_event_count['3b']+df_collapsed_event_count['hr']+df_collapsed_event_count['out']\n",
    "df_collapsed_event_count['woba'] = _woba(\n",
    "    _1b = df_collapsed_event_count['1b'],\n",
    "    _2b = df_collapsed_event_count['2b'],\n",
    "    _3b = df_collapsed_event_count['3b'],\n",
    "    _bb = df_collapsed_event_count['bb'],\n",
    "    _hbp = df_collapsed_event_count['hbp'],\n",
    "    _hr = df_collapsed_event_count['hr'],\n",
    "    _sf = df_collapsed_event_count['sf'],\n",
    "    _ab = df_collapsed_event_count['ab']\n",
    ")\n",
    "df_collapsed_event_count.head()"
   ]
  },
  {
   "cell_type": "markdown",
   "metadata": {},
   "source": [
    "# Output\n",
    "Build the output table and write it to S3"
   ]
  },
  {
   "cell_type": "code",
   "execution_count": 53,
   "metadata": {},
   "outputs": [
    {
     "data": {
      "text/html": [
       "<div>\n",
       "<style scoped>\n",
       "    .dataframe tbody tr th:only-of-type {\n",
       "        vertical-align: middle;\n",
       "    }\n",
       "\n",
       "    .dataframe tbody tr th {\n",
       "        vertical-align: top;\n",
       "    }\n",
       "\n",
       "    .dataframe thead th {\n",
       "        text-align: right;\n",
       "    }\n",
       "</style>\n",
       "<table border=\"1\" class=\"dataframe\">\n",
       "  <thead>\n",
       "    <tr style=\"text-align: right;\">\n",
       "      <th></th>\n",
       "      <th>events</th>\n",
       "      <th>woba</th>\n",
       "      <th>event_count</th>\n",
       "    </tr>\n",
       "    <tr>\n",
       "      <th>pitcher</th>\n",
       "      <th>batter</th>\n",
       "      <th></th>\n",
       "      <th></th>\n",
       "    </tr>\n",
       "  </thead>\n",
       "  <tbody>\n",
       "    <tr>\n",
       "      <th rowspan=\"5\" valign=\"top\">282332</th>\n",
       "      <th>405395</th>\n",
       "      <td>0.534000</td>\n",
       "      <td>5.0</td>\n",
       "    </tr>\n",
       "    <tr>\n",
       "      <th>425844</th>\n",
       "      <td>0.000000</td>\n",
       "      <td>2.0</td>\n",
       "    </tr>\n",
       "    <tr>\n",
       "      <th>429665</th>\n",
       "      <td>0.526667</td>\n",
       "      <td>3.0</td>\n",
       "    </tr>\n",
       "    <tr>\n",
       "      <th>430945</th>\n",
       "      <td>0.230000</td>\n",
       "      <td>3.0</td>\n",
       "    </tr>\n",
       "    <tr>\n",
       "      <th>443558</th>\n",
       "      <td>1.050000</td>\n",
       "      <td>2.0</td>\n",
       "    </tr>\n",
       "  </tbody>\n",
       "</table>\n",
       "</div>"
      ],
      "text/plain": [
       "events              woba  event_count\n",
       "pitcher batter                       \n",
       "282332  405395  0.534000          5.0\n",
       "        425844  0.000000          2.0\n",
       "        429665  0.526667          3.0\n",
       "        430945  0.230000          3.0\n",
       "        443558  1.050000          2.0"
      ]
     },
     "execution_count": 53,
     "metadata": {},
     "output_type": "execute_result"
    }
   ],
   "source": [
    "df_output = df_collapsed_event_count.copy()\n",
    "df_output['event_count'] = df_output['ab'] + df_output['bb']+ df_output['sf'] + df_output['hbp']\n",
    "df_output = df_output.drop(columns=['1b', '2b', '3b', 'bb', 'hbp', 'hr', 'out', 'sf', 'ab'])\n",
    "df_output.head()"
   ]
  },
  {
   "cell_type": "code",
   "execution_count": 54,
   "metadata": {},
   "outputs": [],
   "source": [
    "import s3fs\n",
    "\n",
    "def _write_out_df(df, key):\n",
    "    bytes_to_write = df.to_csv(None).encode()\n",
    "    fs = s3fs.S3FileSystem()\n",
    "    with fs.open('s3://{bucket}/{key}'.format(\n",
    "            bucket=bucket_name,\n",
    "            key=key\n",
    "        ), 'wb') as f:\n",
    "        f.write(bytes_to_write)\n",
    "        \n",
    "_write_out_df(df_output, 'pitchtype/df_pitcher_batter_woba.csv')"
   ]
  }
 ],
 "metadata": {
  "kernelspec": {
   "display_name": "conda_python3",
   "language": "python",
   "name": "conda_python3"
  },
  "language_info": {
   "codemirror_mode": {
    "name": "ipython",
    "version": 3
   },
   "file_extension": ".py",
   "mimetype": "text/x-python",
   "name": "python",
   "nbconvert_exporter": "python",
   "pygments_lexer": "ipython3",
   "version": "3.6.5"
  }
 },
 "nbformat": 4,
 "nbformat_minor": 4
}
